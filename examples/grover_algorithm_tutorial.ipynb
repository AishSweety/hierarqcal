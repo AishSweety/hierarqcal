{
 "cells": [
  {
   "attachments": {},
   "cell_type": "markdown",
   "id": "591b2061",
   "metadata": {},
   "source": [
    "# Grover's Algorithm with hierarcqal\n"
   ]
  },
  {
   "cell_type": "code",
   "execution_count": 1,
   "id": "2bd7c337",
   "metadata": {},
   "outputs": [],
   "source": [
    "import sys\n",
    "\n",
    "sys.path.append(\"c:\\\\Users\\\\Amy\\\\Desktop\\\\Green_Git\\\\hierarqcal\")\n"
   ]
  },
  {
   "cell_type": "code",
   "execution_count": 2,
   "id": "e1a2dbcc",
   "metadata": {},
   "outputs": [],
   "source": [
    "import numpy as np\n",
    "import sympy as sp\n",
    "import matplotlib.pyplot as plt\n",
    "from hierarqcal import Qinit, Qmask, Qunitary, Qpivot, Qcycle, Qunmask\n"
   ]
  },
  {
   "attachments": {},
   "cell_type": "markdown",
   "id": "cca00e17",
   "metadata": {},
   "source": [
    "## Background\n"
   ]
  },
  {
   "attachments": {},
   "cell_type": "markdown",
   "id": "408dc750",
   "metadata": {},
   "source": [
    "## Choose the number of qubits"
   ]
  },
  {
   "cell_type": "code",
   "execution_count": 3,
   "id": "73fb5a44",
   "metadata": {},
   "outputs": [],
   "source": [
    "n = 10\n",
    "random_int = np.random.randint(0, 2**n)\n",
    "Target_string = bin(random_int)[2:].zfill(n)\n",
    "N_iterations = 20\n"
   ]
  },
  {
   "cell_type": "code",
   "execution_count": 4,
   "id": "205fb2cc",
   "metadata": {},
   "outputs": [
    {
     "name": "stdout",
     "output_type": "stream",
     "text": [
      "Number of qubits 10\n",
      "Number of ancillas 7\n",
      "Total number of qubits 17\n",
      "Search space size 1024\n",
      "With target 0011010110\n",
      "\n",
      "Interactions of Grover to perform 20\n",
      "Optimal number of iterations 24\n"
     ]
    }
   ],
   "source": [
    "print(\"Number of qubits\", n)\n",
    "print(\"Number of ancillas\", n - 3)\n",
    "print(\"Total number of qubits\", 2 * (n) - 3)\n",
    "print(\"Search space size\", 2**n)\n",
    "print(\"With target\", Target_string)\n",
    "\n",
    "print(\"\\nInteractions of Grover to perform\", N_iterations)\n",
    "print(\n",
    "    \"Optimal number of iterations\",\n",
    "    int((np.pi / 2 / np.arctan(1 / np.sqrt(2**n)) - 1) / 2),\n",
    ")\n"
   ]
  },
  {
   "attachments": {},
   "cell_type": "markdown",
   "id": "ce89edd6",
   "metadata": {},
   "source": [
    "## Primitive circuit \n"
   ]
  },
  {
   "attachments": {},
   "cell_type": "markdown",
   "id": "8c21081e",
   "metadata": {},
   "source": [
    "## Create the primitive circuit with Qpivot"
   ]
  },
  {
   "cell_type": "code",
   "execution_count": 5,
   "id": "74870d58",
   "metadata": {},
   "outputs": [],
   "source": [
    "# Ration around the zero state but an angle of pi\n",
    "H = Qunitary(\"H()^0\")\n",
    "X = Qunitary(\"X()^0\")\n",
    "H_bottom = Qpivot(mapping=H, global_pattern=\"*1\")\n",
    "X_i = Qunitary(\"cp(x)^01\", symbols=[np.pi / 2])\n",
    "X_i_plus_X_j = Qunitary(\"cnot()^01;cp(x)^12;cnot()^01\", symbols=[-np.pi / 2])\n",
    "\n",
    "U_psi = Qcycle(mapping=H)\n",
    "U_T = Qpivot(mapping=X, global_pattern=Target_string[::-1])\n",
    "\n",
    "U_toffoli = Qinit(3)\n",
    "U_toffoli += H_bottom\n",
    "U_toffoli += Qpivot(mapping=X_i, global_pattern=\"*1\", merge_within=\"*1\")\n",
    "U_toffoli += Qpivot(mapping=X_i_plus_X_j, global_pattern=\"*1\", merge_within=\"*1\")\n",
    "U_toffoli += H_bottom\n",
    "\n",
    "maskAncillas = Qmask(\"0\" + \"01\" * (n - 3) + \"00\")\n",
    "multiCZ = H_bottom + Qunmask(\"previous\")\n",
    "multiCZ += Qcycle(mapping=U_toffoli, step=2, boundary=\"open\")\n",
    "multiCZ += Qmask(\"*1\")\n",
    "multiCZ += Qcycle(mapping=U_toffoli, step=2, boundary=\"open\", edge_order=[-1])\n",
    "multiCZ += Qunmask(\"previous\")\n",
    "multiCZ += maskAncillas + H_bottom\n",
    "\n",
    "U_reflect_0 = Qcycle(mapping=X) + multiCZ + Qcycle(mapping=X)\n",
    "\n",
    "U_oracle = U_T + U_reflect_0 + U_T\n",
    "U_defuse = U_psi + U_reflect_0 + U_psi\n",
    "\n",
    "ancilla_str = \"0\" + \"01\" * (n - 3) + \"00\"\n",
    "q_names = [f\"q_{i}\" if ancilla_str[i] == \"0\" else f\"a_{i}\" for i in range(2 * n - 3)]\n",
    "U = Qinit(q_names) + maskAncillas + U_psi\n",
    "\n",
    "if N_iterations > 0:\n",
    "    U += (U_oracle + U_defuse) * N_iterations\n"
   ]
  },
  {
   "cell_type": "code",
   "execution_count": 6,
   "id": "011d26ab",
   "metadata": {},
   "outputs": [],
   "source": [
    "# create the circuit using the chose backend\n",
    "circuit = U(backend=\"qiskit\", barriers=True)\n",
    "circuit.measure_all()\n"
   ]
  },
  {
   "attachments": {},
   "cell_type": "markdown",
   "id": "95f02eff",
   "metadata": {},
   "source": [
    "## Visualize the primitive circuit\n",
    "\n",
    "Change the value of k to convince yourself that is indeed works as intended."
   ]
  },
  {
   "cell_type": "code",
   "execution_count": 7,
   "id": "e8e4930f",
   "metadata": {},
   "outputs": [],
   "source": [
    "if N_iterations < 4:\n",
    "    fig = circuit.draw(\"mpl\", fold=50)\n",
    "else:\n",
    "    fig = None\n",
    "\n",
    "fig\n"
   ]
  },
  {
   "cell_type": "code",
   "execution_count": 8,
   "id": "5b61d34d",
   "metadata": {},
   "outputs": [],
   "source": [
    "# run the circuit, get counts\n",
    "from qiskit import Aer, execute\n",
    "from qiskit.visualization import plot_histogram\n",
    "\n",
    "backend = Aer.get_backend(\"qasm_simulator\")\n",
    "job = execute(circuit, backend, shots=10000)\n",
    "result = job.result()\n",
    "counts = result.get_counts()\n",
    "\n",
    "# plot_histogram(counts)\n"
   ]
  },
  {
   "cell_type": "code",
   "execution_count": 9,
   "id": "b769cc17",
   "metadata": {},
   "outputs": [],
   "source": [
    "Q = []\n",
    "mask = [\"q\" if n.split(\"_\")[0] == \"q\" else \"a\" for n in q_names]\n",
    "for k in counts.keys():\n",
    "    Q.append(\"\".join([k[i] if mask[i] == \"q\" else \"*\" for i in range(len(k))]))\n"
   ]
  },
  {
   "cell_type": "code",
   "execution_count": 10,
   "id": "297dc190",
   "metadata": {},
   "outputs": [],
   "source": [
    "counts_q = {}\n",
    "count_keys = counts.keys()\n",
    "for x in Q:\n",
    "    # all binary strings of length n_a\n",
    "    n_a = len(x.split(\"*\")) - 1\n",
    "    A = [[x for x in bin(i)[2:].zfill(n_a)] + [\"\"] for i in range(2**n_a)]\n",
    "    Trace_A = []\n",
    "    for a in A:\n",
    "        Trace_A.append(\"\".join([x + y for x, y in zip(x.split(\"*\"), a)]))\n",
    "\n",
    "    counts_q[x.replace(\"*\", \"\")] = sum([counts[k] for k in Trace_A if k in count_keys])\n"
   ]
  },
  {
   "cell_type": "code",
   "execution_count": 11,
   "id": "fb8162c5",
   "metadata": {},
   "outputs": [
    {
     "name": "stdout",
     "output_type": "stream",
     "text": [
      "Number of qubits 10\n",
      "Number of ancillas 7\n",
      "Total number of qubits 17\n",
      "Search space size 1024\n",
      "With target 0011010110\n",
      "\n",
      "Interactions of Grover to perform 20\n",
      "Optimal number of iterations 24\n",
      "\n",
      "Top 5 x associate with the 5 larges value of y\n",
      "['0011010110', '1111011100', '1011100110', '1001111101', '1000101110']\n",
      "[9190, 4, 4, 4, 4]\n"
     ]
    },
    {
     "data": {
      "image/png": "[encoded data removed]",
      "text/plain": [
       "<Figure size 700x500 with 1 Axes>"
      ]
     },
     "execution_count": 11,
     "metadata": {},
     "output_type": "execute_result"
    }
   ],
   "source": [
    "print(\"Number of qubits\", n)\n",
    "print(\"Number of ancillas\", 2 * (n) - 3 - n)\n",
    "print(\"Total number of qubits\", 2 * (n) - 3)\n",
    "print(\"Search space size\", 2**n)\n",
    "print(\"With target\", Target_string)\n",
    "\n",
    "print(\"\\nInteractions of Grover to perform\", N_iterations)\n",
    "print(\"Optimal number of iterations\", int((np.pi / 2 * np.sqrt(2**n) - 1) / 2))\n",
    "print()\n",
    "\n",
    "x = counts_q.keys()\n",
    "y = counts_q.values()\n",
    "# top 5 x associate with the 5 larges value of y\n",
    "top_x = [x for _, x in sorted(zip(y, x), reverse=True)][:5]\n",
    "top_y = sorted(y, reverse=True)[:5]\n",
    "\n",
    "print(\"Top 5 x associate with the 5 larges value of y\")\n",
    "print(top_x)\n",
    "print(top_y)\n",
    "\n",
    "plot_histogram(counts_q)\n"
   ]
  },
  {
   "cell_type": "code",
   "execution_count": null,
   "id": "d48e4714",
   "metadata": {},
   "outputs": [],
   "source": []
  }
 ],
 "metadata": {
  "kernelspec": {
   "display_name": ".venv",
   "language": "python",
   "name": "python3"
  },
  "language_info": {
   "codemirror_mode": {
    "name": "ipython",
    "version": 3
   },
   "file_extension": ".py",
   "mimetype": "text/x-python",
   "name": "python",
   "nbconvert_exporter": "python",
   "pygments_lexer": "ipython3",
   "version": "3.11.2"
  }
 },
 "nbformat": 4,
 "nbformat_minor": 5
}
