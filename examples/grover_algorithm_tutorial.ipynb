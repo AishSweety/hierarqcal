{
 "cells": [
  {
   "attachments": {},
   "cell_type": "markdown",
   "id": "591b2061",
   "metadata": {},
   "source": [
    "# Grover's Algorithm with hierarcqal\n"
   ]
  },
  {
   "cell_type": "code",
   "execution_count": 2,
   "id": "2bd7c337",
   "metadata": {},
   "outputs": [],
   "source": [
    "import sys\n",
    "sys.path.append('c:\\\\Users\\\\Amy\\\\Desktop\\\\Green_Git\\\\hierarqcal')"
   ]
  },
  {
   "cell_type": "code",
   "execution_count": 12,
   "id": "e1a2dbcc",
   "metadata": {},
   "outputs": [],
   "source": [
    "import numpy as np\n",
    "import sympy as sp\n",
    "import matplotlib.pyplot as plt\n",
    "from hierarqcal import (\n",
    "    Qinit,\n",
    "    Qmask,\n",
    "    Qunitary,\n",
    "    Qpivot,\n",
    "    Qcycle,\n",
    ")"
   ]
  },
  {
   "attachments": {},
   "cell_type": "markdown",
   "id": "cb58f0e9",
   "metadata": {},
   "source": [
    "## Specify backend\n",
    "It is possible to use the package without a specific backend, but we choose one here for visualisation purposes. We're mainly going to use the backends plotting functionality to display the circuits, so pick the one you have installed."
   ]
  },
  {
   "cell_type": "code",
   "execution_count": 4,
   "id": "cc862069",
   "metadata": {},
   "outputs": [],
   "source": [
    "backend = \"qiskit\""
   ]
  },
  {
   "attachments": {},
   "cell_type": "markdown",
   "id": "1510d349",
   "metadata": {},
   "source": [
    "### Some backend dependant helper functions"
   ]
  },
  {
   "cell_type": "code",
   "execution_count": 5,
   "id": "346f7a15",
   "metadata": {},
   "outputs": [],
   "source": [
    "if backend == \"qiskit\":\n",
    "    import qiskit\n",
    "    from hierarqcal.qiskit.qiskit_circuits import V2, U2, V4\n",
    "\n",
    "    def get_circuit(hierq):\n",
    "        return hierq(backend=\"qiskit\")\n",
    "\n",
    "    def draw_circuit(circuit, **kwargs):\n",
    "        return circuit.draw(output=\"mpl\", **kwargs)\n",
    "\n",
    "elif backend == \"cirq\":\n",
    "    import cirq\n",
    "    from cirq.contrib.svg import SVGCircuit\n",
    "    from hierarqcal.cirq.cirq_circuits import V2, U2, V4\n",
    "    import logging\n",
    "    logging.getLogger('matplotlib.font_manager').disabled = True\n",
    "    def get_circuit(hierq):\n",
    "        return hierq(backend=\"cirq\")\n",
    "\n",
    "    def draw_circuit(circuit, **kwargs):\n",
    "        return SVGCircuit(circuit, **kwargs)\n",
    "\n",
    "elif backend == \"pennylane\":\n",
    "    import pennylane as qml\n",
    "    from hierarqcal.pennylane.pennylane_circuits import V2, U2, V4\n",
    "\n",
    "    def get_circuit(hierq):\n",
    "        dev = qml.device(\"default.qubit\", wires=hierq.tail.Q)\n",
    "\n",
    "        @qml.qnode(dev)\n",
    "        def circuit():\n",
    "            if isinstance(next(hierq.get_symbols(), False), sp.Symbol):\n",
    "                # Pennylane doesn't support symbolic parameters, so if no symbols were set (i.e. they are still symbolic), we initialize them randomly\n",
    "                hierq.set_symbols(np.random.uniform(0, 2 * np.pi, hierq.n_symbols))\n",
    "            hierq(\n",
    "                backend=\"pennylane\"\n",
    "            )  # This executes the compute graph in order\n",
    "            return [qml.expval(qml.PauliZ(wire)) for wire in hierq.tail.Q]\n",
    "\n",
    "        return circuit\n",
    "\n",
    "    def draw_circuit(circuit, **kwargs):\n",
    "        fig, ax = qml.draw_mpl(circuit)(**kwargs)"
   ]
  },
  {
   "attachments": {},
   "cell_type": "markdown",
   "id": "cca00e17",
   "metadata": {},
   "source": [
    "## Background\n"
   ]
  },
  {
   "attachments": {},
   "cell_type": "markdown",
   "id": "408dc750",
   "metadata": {},
   "source": [
    "## Choose the number of qubits"
   ]
  },
  {
   "cell_type": "code",
   "execution_count": 6,
   "id": "73fb5a44",
   "metadata": {},
   "outputs": [],
   "source": [
    "n = 5\n",
    "N = 2^n"
   ]
  },
  {
   "attachments": {},
   "cell_type": "markdown",
   "id": "ce89edd6",
   "metadata": {},
   "source": [
    "## Primitive circuit \n"
   ]
  },
  {
   "attachments": {},
   "cell_type": "markdown",
   "id": "8c21081e",
   "metadata": {},
   "source": [
    "## Create the primitive circuit with Qpivot"
   ]
  },
  {
   "cell_type": "code",
   "execution_count": 16,
   "id": "74870d58",
   "metadata": {},
   "outputs": [],
   "source": [
    "# Ration around the zero state but an angle of pi\n",
    "R =  Qunitary('mcx()^01')\n",
    "U = Qinit(n) + Qcycle(mapping = R)\n"
   ]
  },
  {
   "cell_type": "code",
   "execution_count": 17,
   "id": "011d26ab",
   "metadata": {},
   "outputs": [],
   "source": [
    "# create the circuit using the chose backend\n",
    "circuit= U(backend=backend)"
   ]
  },
  {
   "attachments": {},
   "cell_type": "markdown",
   "id": "95f02eff",
   "metadata": {},
   "source": [
    "## Visualize the primitive circuit\n",
    "\n",
    "Change the value of k to convince yourself that is indeed works as intended."
   ]
  },
  {
   "cell_type": "code",
   "execution_count": 18,
   "id": "381c5e6b",
   "metadata": {},
   "outputs": [
    {
     "data": {
      "image/png": "[encoded data removed]",
      "text/plain": [
       "<Figure size 538.33x451.5 with 1 Axes>"
      ]
     },
     "execution_count": 18,
     "metadata": {},
     "output_type": "execute_result"
    }
   ],
   "source": [
    "circuit.draw(\"mpl\")"
   ]
  },
  {
   "cell_type": "code",
   "execution_count": null,
   "id": "5b61d34d",
   "metadata": {},
   "outputs": [],
   "source": []
  }
 ],
 "metadata": {
  "kernelspec": {
   "display_name": ".venv",
   "language": "python",
   "name": "python3"
  },
  "language_info": {
   "codemirror_mode": {
    "name": "ipython",
    "version": 3
   },
   "file_extension": ".py",
   "mimetype": "text/x-python",
   "name": "python",
   "nbconvert_exporter": "python",
   "pygments_lexer": "ipython3",
   "version": "3.11.2"
  }
 },
 "nbformat": 4,
 "nbformat_minor": 5
}
