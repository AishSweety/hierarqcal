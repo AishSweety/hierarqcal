{
 "cells": [
  {
   "attachments": {},
   "cell_type": "markdown",
   "id": "591b2061",
   "metadata": {},
   "source": [
    "# Grover's Algorithm with hierarcqal\n"
   ]
  },
  {
   "cell_type": "code",
   "execution_count": 193,
   "id": "2bd7c337",
   "metadata": {},
   "outputs": [],
   "source": [
    "import sys\n",
    "sys.path.append('c:\\\\Users\\\\Amy\\\\Desktop\\\\Green_Git\\\\hierarqcal')"
   ]
  },
  {
   "cell_type": "code",
   "execution_count": 194,
   "id": "e1a2dbcc",
   "metadata": {},
   "outputs": [],
   "source": [
    "import numpy as np\n",
    "import sympy as sp\n",
    "import matplotlib.pyplot as plt\n",
    "from hierarqcal import (\n",
    "    Qinit,\n",
    "    Qmask,\n",
    "    Qunitary,\n",
    "    Qpivot,\n",
    "    Qcycle,\n",
    "    Qunmask\n",
    ")"
   ]
  },
  {
   "attachments": {},
   "cell_type": "markdown",
   "id": "cb58f0e9",
   "metadata": {},
   "source": [
    "## Specify backend\n",
    "It is possible to use the package without a specific backend, but we choose one here for visualisation purposes. We're mainly going to use the backends plotting functionality to display the circuits, so pick the one you have installed."
   ]
  },
  {
   "cell_type": "code",
   "execution_count": 195,
   "id": "cc862069",
   "metadata": {},
   "outputs": [],
   "source": [
    "backend = \"qiskit\""
   ]
  },
  {
   "attachments": {},
   "cell_type": "markdown",
   "id": "1510d349",
   "metadata": {},
   "source": [
    "### Some backend dependant helper functions"
   ]
  },
  {
   "cell_type": "code",
   "execution_count": 196,
   "id": "346f7a15",
   "metadata": {},
   "outputs": [],
   "source": [
    "if backend == \"qiskit\":\n",
    "    import qiskit\n",
    "    from hierarqcal.qiskit.qiskit_circuits import V2, U2, V4\n",
    "\n",
    "    def get_circuit(hierq):\n",
    "        return hierq(backend=\"qiskit\")\n",
    "\n",
    "    def draw_circuit(circuit, **kwargs):\n",
    "        return circuit.draw(output=\"mpl\", **kwargs)\n",
    "\n",
    "elif backend == \"cirq\":\n",
    "    import cirq\n",
    "    from cirq.contrib.svg import SVGCircuit\n",
    "    from hierarqcal.cirq.cirq_circuits import V2, U2, V4\n",
    "    import logging\n",
    "    logging.getLogger('matplotlib.font_manager').disabled = True\n",
    "    def get_circuit(hierq):\n",
    "        return hierq(backend=\"cirq\")\n",
    "\n",
    "    def draw_circuit(circuit, **kwargs):\n",
    "        return SVGCircuit(circuit, **kwargs)\n",
    "\n",
    "elif backend == \"pennylane\":\n",
    "    import pennylane as qml\n",
    "    from hierarqcal.pennylane.pennylane_circuits import V2, U2, V4\n",
    "\n",
    "    def get_circuit(hierq):\n",
    "        dev = qml.device(\"default.qubit\", wires=hierq.tail.Q)\n",
    "\n",
    "        @qml.qnode(dev)\n",
    "        def circuit():\n",
    "            if isinstance(next(hierq.get_symbols(), False), sp.Symbol):\n",
    "                # Pennylane doesn't support symbolic parameters, so if no symbols were set (i.e. they are still symbolic), we initialize them randomly\n",
    "                hierq.set_symbols(np.random.uniform(0, 2 * np.pi, hierq.n_symbols))\n",
    "            hierq(\n",
    "                backend=\"pennylane\"\n",
    "            )  # This executes the compute graph in order\n",
    "            return [qml.expval(qml.PauliZ(wire)) for wire in hierq.tail.Q]\n",
    "\n",
    "        return circuit\n",
    "\n",
    "    def draw_circuit(circuit, **kwargs):\n",
    "        fig, ax = qml.draw_mpl(circuit)(**kwargs)"
   ]
  },
  {
   "attachments": {},
   "cell_type": "markdown",
   "id": "cca00e17",
   "metadata": {},
   "source": [
    "## Background\n"
   ]
  },
  {
   "attachments": {},
   "cell_type": "markdown",
   "id": "408dc750",
   "metadata": {},
   "source": [
    "## Choose the number of qubits"
   ]
  },
  {
   "cell_type": "code",
   "execution_count": 197,
   "id": "73fb5a44",
   "metadata": {},
   "outputs": [],
   "source": [
    "n = 10\n",
    "N = 2**(2*(n)-3)"
   ]
  },
  {
   "cell_type": "code",
   "execution_count": 198,
   "id": "6ba11ad7",
   "metadata": {},
   "outputs": [],
   "source": [
    "random_int = 1#np.random.randint(0, 2**n)\n",
    "Target_string = bin(random_int)[2:].zfill(n)\n",
    "N_iterations = 20"
   ]
  },
  {
   "cell_type": "code",
   "execution_count": 199,
   "id": "205fb2cc",
   "metadata": {},
   "outputs": [
    {
     "name": "stdout",
     "output_type": "stream",
     "text": [
      "Number of qubits 10\n",
      "Number of ancillas 7\n",
      "Total number of qubits 17\n",
      "Search space size 1024\n",
      "With target 0000000001\n",
      "\n",
      "Interactions of Grover to perform 20\n",
      "Optimal number of iterations 24\n"
     ]
    }
   ],
   "source": [
    "print('Number of qubits', n)\n",
    "print('Number of ancillas', 2*(n)-3-n)\n",
    "print('Total number of qubits', 2*(n)-3)\n",
    "print('Search space size', 2**n)\n",
    "print('With target',Target_string)\n",
    "\n",
    "print('\\nInteractions of Grover to perform', N_iterations)\n",
    "print('Optimal number of iterations', int((np.pi/2/np.arctan(1/np.sqrt(2**n))-1)/2))"
   ]
  },
  {
   "attachments": {},
   "cell_type": "markdown",
   "id": "ce89edd6",
   "metadata": {},
   "source": [
    "## Primitive circuit \n"
   ]
  },
  {
   "attachments": {},
   "cell_type": "markdown",
   "id": "8c21081e",
   "metadata": {},
   "source": [
    "## Create the primitive circuit with Qpivot"
   ]
  },
  {
   "cell_type": "code",
   "execution_count": 200,
   "id": "90e07796",
   "metadata": {},
   "outputs": [],
   "source": [
    "# random_int = np.random.randint(0, 2**n)\n",
    "# Target_string = bin(random_int)[2:].zfill(n)\n",
    "# print('With target',Target_string)\n",
    "\n",
    "# test = Qinit(n) + Qpivot(mapping=Qunitary(\"X()^0\"), global_pattern=Target_string)\n",
    "# # create the circuit using the chose backend\n",
    "# circuit_test = test(backend=backend, barriers=True)#circuit.copy()\n",
    "# circuit_test.draw()"
   ]
  },
  {
   "cell_type": "code",
   "execution_count": null,
   "id": "7cc0a2d5",
   "metadata": {},
   "outputs": [],
   "source": []
  },
  {
   "cell_type": "code",
   "execution_count": 201,
   "id": "74870d58",
   "metadata": {},
   "outputs": [],
   "source": [
    "# Ration around the zero state but an angle of pi\n",
    "H = Qunitary(\"H()^0\")\n",
    "X = Qunitary(\"X()^0\")\n",
    "H_bottom = Qpivot(mapping=H, global_pattern=\"*1\")\n",
    "\n",
    "U_psi = Qcycle(mapping=H)\n",
    "U_T = Qpivot(mapping=X, global_pattern=Target_string)\n",
    "\n",
    "U_t = Qpivot(mapping=H, global_pattern=\"*1\")\n",
    "U_t += Qpivot(\n",
    "    mapping=Qunitary(\"cp(x)^01\", symbols=[np.pi / 2]),\n",
    "    global_pattern=\"*1\",\n",
    "    merge_within=\"1*\",\n",
    ")\n",
    "U_t += Qpivot(\n",
    "    mapping=Qunitary(\"cnot()^01;cp(x)^12;cnot()^01\", symbols=[-np.pi / 2]),\n",
    "    global_pattern=\"*1\",\n",
    "    merge_within=\"*1\",\n",
    ")\n",
    "U_t += Qpivot(mapping=H, global_pattern=\"*1\")\n",
    "\n",
    "U_toffoli = Qinit(3) + U_t\n",
    "\n",
    "maskAncillas = Qmask('0'+'01'*(n-3)+'00')\n",
    "multiCZ =  Qcycle(step=2, mapping=U_toffoli, boundary='open') + Qmask('*1') + Qcycle(step = 2, mapping=U_toffoli, edge_order = [-1], boundary='open') + Qunmask('previous') \n",
    "\n",
    "U_rotate = Qcycle(mapping=X)  + H_bottom +  Qunmask('previous') + multiCZ + maskAncillas  + H_bottom + Qcycle(mapping=X)\n",
    "\n",
    "U_oracle = U_T + U_rotate + U_T\n",
    "U_defuse = U_psi + U_rotate + U_psi\n",
    "\n",
    "ancilla_str = '0'+'01'*(n-3)+'00'\n",
    "q_names = [f'q_{i}' if ancilla_str[i]== '0' else f'a_{i}' for i in range(2*n-3)]\n",
    "if N_iterations>0:\n",
    "    U = Qinit(q_names) + maskAncillas + U_psi +  ( U_oracle + U_defuse)*N_iterations \n",
    "else:\n",
    "    U = Qinit(q_names) + maskAncillas + U_psi\n"
   ]
  },
  {
   "cell_type": "code",
   "execution_count": 202,
   "id": "011d26ab",
   "metadata": {},
   "outputs": [],
   "source": [
    "# create the circuit using the chose backend\n",
    "circuit = U(backend=backend, barriers=True)#circuit.copy()\n",
    "circuit.measure_all()"
   ]
  },
  {
   "attachments": {},
   "cell_type": "markdown",
   "id": "95f02eff",
   "metadata": {},
   "source": [
    "## Visualize the primitive circuit\n",
    "\n",
    "Change the value of k to convince yourself that is indeed works as intended."
   ]
  },
  {
   "cell_type": "code",
   "execution_count": 203,
   "id": "e8e4930f",
   "metadata": {},
   "outputs": [],
   "source": [
    "if N_iterations<4:\n",
    "    fig = circuit.draw(\"mpl\", fold=50)\n",
    "else:\n",
    "    fig = None\n",
    "\n",
    "fig"
   ]
  },
  {
   "cell_type": "code",
   "execution_count": 204,
   "id": "5b61d34d",
   "metadata": {},
   "outputs": [],
   "source": [
    "# run the circuit, get counts\n",
    "from qiskit import Aer, execute\n",
    "from qiskit.visualization import plot_histogram\n",
    "\n",
    "backend = Aer.get_backend('qasm_simulator')\n",
    "job = execute(circuit, backend, shots=10000)\n",
    "result = job.result()\n",
    "counts = result.get_counts()\n",
    "\n",
    "#plot_histogram(counts)\n",
    "\n"
   ]
  },
  {
   "cell_type": "code",
   "execution_count": 205,
   "id": "b769cc17",
   "metadata": {},
   "outputs": [],
   "source": [
    "Q = []\n",
    "mask = ['q' if n.split('_')[0]=='q' else 'a' for n in q_names]\n",
    "for k in counts.keys():\n",
    "    Q.append(''.join([k[i] if mask[i]=='q' else '*' for i in range(len(k)) ]))\n",
    "    \n"
   ]
  },
  {
   "cell_type": "code",
   "execution_count": 206,
   "id": "297dc190",
   "metadata": {},
   "outputs": [],
   "source": [
    "counts_q = {}\n",
    "count_keys = counts.keys()\n",
    "for x in Q:\n",
    "    # all binary strings of length n_a\n",
    "    n_a = len(x.split('*'))-1\n",
    "    A = [[x for x in bin(i)[2:].zfill(n_a)]+[''] for i in range(2**n_a)]\n",
    "    Trace_A = []\n",
    "    for a in A:\n",
    "        Trace_A.append(''.join([x+y for x,y in zip(x.split('*'),a)]))\n",
    "        \n",
    "    counts_q[x.replace('*','')] = sum([counts[k] for k in Trace_A if k in count_keys])\n"
   ]
  },
  {
   "cell_type": "code",
   "execution_count": 207,
   "id": "fb8162c5",
   "metadata": {},
   "outputs": [
    {
     "name": "stdout",
     "output_type": "stream",
     "text": [
      "Number of qubits 10\n",
      "Number of ancillas 7\n",
      "Total number of qubits 17\n",
      "Search space size 1024\n",
      "With target 0000000001\n",
      "\n",
      "Interactions of Grover to perform 20\n",
      "Optimal number of iterations 283\n",
      "\n",
      "Top 5 x associate with the 5 larges value of y\n",
      "['1000000000', '0100010000', '0111011000', '0000110111', '1111001000']\n",
      "[9175, 6, 5, 5, 4]\n"
     ]
    },
    {
     "data": {
      "image/png": "[encoded data removed]",
      "text/plain": [
       "<Figure size 700x500 with 1 Axes>"
      ]
     },
     "execution_count": 207,
     "metadata": {},
     "output_type": "execute_result"
    }
   ],
   "source": [
    "print('Number of qubits', n)\n",
    "print('Number of ancillas', 2*(n)-3-n)\n",
    "print('Total number of qubits', 2*(n)-3)\n",
    "print('Search space size', 2**n)\n",
    "print('With target',Target_string)\n",
    "\n",
    "print('\\nInteractions of Grover to perform', N_iterations)\n",
    "print('Optimal number of iterations', int((np.pi/2*np.sqrt(N)-1)/2))\n",
    "print()\n",
    "\n",
    "x = counts_q.keys()\n",
    "y = counts_q.values()\n",
    "# top 5 x associate with the 5 larges value of y\n",
    "top_x = [x for _,x in sorted(zip(y,x), reverse=True)][:5]\n",
    "top_y = sorted(y, reverse=True)[:5]\n",
    "\n",
    "print('Top 5 x associate with the 5 larges value of y')\n",
    "print(top_x)\n",
    "print(top_y)\n",
    "\n",
    "plot_histogram(counts_q)"
   ]
  },
  {
   "cell_type": "code",
   "execution_count": null,
   "id": "d48e4714",
   "metadata": {},
   "outputs": [],
   "source": []
  }
 ],
 "metadata": {
  "kernelspec": {
   "display_name": ".venv",
   "language": "python",
   "name": "python3"
  },
  "language_info": {
   "codemirror_mode": {
    "name": "ipython",
    "version": 3
   },
   "file_extension": ".py",
   "mimetype": "text/x-python",
   "name": "python",
   "nbconvert_exporter": "python",
   "pygments_lexer": "ipython3",
   "version": "3.11.2"
  }
 },
 "nbformat": 4,
 "nbformat_minor": 5
}
