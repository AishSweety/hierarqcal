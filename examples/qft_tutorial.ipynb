{
 "cells": [
  {
   "attachments": {},
   "cell_type": "markdown",
   "id": "591b2061",
   "metadata": {},
   "source": [
    "# Quantum Fourier transformation with hierarcqal\n"
   ]
  },
  {
   "cell_type": "code",
   "execution_count": 1,
   "id": "2bd7c337",
   "metadata": {},
   "outputs": [],
   "source": [
    "import sys\n",
    "sys.path.append('c:\\\\Users\\\\Amy\\\\Desktop\\\\Green_Git\\\\hierarqcal')"
   ]
  },
  {
   "cell_type": "code",
   "execution_count": 2,
   "id": "e1a2dbcc",
   "metadata": {},
   "outputs": [],
   "source": [
    "import numpy as np\n",
    "import sympy as sp\n",
    "import matplotlib.pyplot as plt\n",
    "from hierarqcal import (\n",
    "    Qinit,\n",
    "    Qmask,\n",
    "    Qunitary,\n",
    "    Qpivot,\n",
    ")"
   ]
  },
  {
   "attachments": {},
   "cell_type": "markdown",
   "id": "cb58f0e9",
   "metadata": {},
   "source": [
    "## Specify backend\n",
    "It is possible to use the package without a specific backend, but we choose one here for visualisation purposes. We're mainly going to use the backends plotting functionality to display the circuits, so pick the one you have installed."
   ]
  },
  {
   "cell_type": "code",
   "execution_count": 3,
   "id": "cc862069",
   "metadata": {},
   "outputs": [],
   "source": [
    "backend = \"qiskit\""
   ]
  },
  {
   "attachments": {},
   "cell_type": "markdown",
   "id": "1510d349",
   "metadata": {},
   "source": [
    "### Some backend dependant helper functions"
   ]
  },
  {
   "cell_type": "code",
   "execution_count": 4,
   "id": "346f7a15",
   "metadata": {},
   "outputs": [],
   "source": [
    "if backend == \"qiskit\":\n",
    "    import qiskit\n",
    "    from hierarqcal.qiskit.qiskit_circuits import V2, U2, V4\n",
    "\n",
    "    def get_circuit(hierq):\n",
    "        return hierq(backend=\"qiskit\")\n",
    "\n",
    "    def draw_circuit(circuit, **kwargs):\n",
    "        return circuit.draw(output=\"mpl\", **kwargs)\n",
    "\n",
    "elif backend == \"cirq\":\n",
    "    import cirq\n",
    "    from cirq.contrib.svg import SVGCircuit\n",
    "    from hierarqcal.cirq.cirq_circuits import V2, U2, V4\n",
    "    import logging\n",
    "    logging.getLogger('matplotlib.font_manager').disabled = True\n",
    "    def get_circuit(hierq):\n",
    "        return hierq(backend=\"cirq\")\n",
    "\n",
    "    def draw_circuit(circuit, **kwargs):\n",
    "        return SVGCircuit(circuit, **kwargs)\n",
    "\n",
    "elif backend == \"pennylane\":\n",
    "    import pennylane as qml\n",
    "    from hierarqcal.pennylane.pennylane_circuits import V2, U2, V4\n",
    "\n",
    "    def get_circuit(hierq):\n",
    "        dev = qml.device(\"default.qubit\", wires=hierq.tail.Q)\n",
    "\n",
    "        @qml.qnode(dev)\n",
    "        def circuit():\n",
    "            if isinstance(next(hierq.get_symbols(), False), sp.Symbol):\n",
    "                # Pennylane doesn't support symbolic parameters, so if no symbols were set (i.e. they are still symbolic), we initialize them randomly\n",
    "                hierq.set_symbols(np.random.uniform(0, 2 * np.pi, hierq.n_symbols))\n",
    "            hierq(\n",
    "                backend=\"pennylane\"\n",
    "            )  # This executes the compute graph in order\n",
    "            return [qml.expval(qml.PauliZ(wire)) for wire in hierq.tail.Q]\n",
    "\n",
    "        return circuit\n",
    "\n",
    "    def draw_circuit(circuit, **kwargs):\n",
    "        fig, ax = qml.draw_mpl(circuit)(**kwargs)"
   ]
  },
  {
   "attachments": {},
   "cell_type": "markdown",
   "id": "cca00e17",
   "metadata": {},
   "source": [
    "## Background\n",
    "Below is a brief description of the discreet Fourier transformation with a sort description of its quantum generalization the quantum Fourier transform or QFT.\n",
    "\n",
    "### Discrete Fourier transformation\n",
    "For an input vector $\\vec{x}$, the $k$ th element of the transformed vector is given by\n",
    "$$y_k = \\frac{1}{\\sqrt{N}} \\sum^{N-1}_{j=0} x_j e^{2\\pi ijk/N}\\,.$$\n",
    "\n",
    "Generalizing this to a set of state $|0\\rangle, |1\\rangle, \\dots |N-1\\rangle$ we have\n",
    "$$|j\\rangle \\rightarrow \\frac{1}{\\sqrt{N}} \\sum^{N-1}_{k=0} e^{2\\pi ijk/N}|k\\rangle\\,,$$\n",
    "so that the Quantum Fourier transform for an arbitrary state with coefficients $\\{x_i\\}_{i=0}^{N-1}$ is given by\n",
    "$$\\sum_{j=0}^{N-1} x_j |j\\rangle \\rightarrow \\frac{1}{\\sqrt{N}}  \\sum^{N-1}_{k=0} \\sum_{j=0}^{N-1} x_j e^{2\\pi ijk/N}|k\\rangle =   \\sum^{N-1}_{k=0} y_k|k\\rangle\\,.$$"
   ]
  },
  {
   "attachments": {},
   "cell_type": "markdown",
   "id": "c7a6190a",
   "metadata": {},
   "source": [
    "Assuming we have $n$ qubits is it possible to encode $N=2^n$ states and it is straightforward to check that \n",
    "$$|j\\rangle \\rightarrow  \\frac{1}{2^{\\frac{n}{2}}} \\sum^{N-1}_{k=0} e^{2\\pi ijk/2^{n}}|k\\rangle = \\frac{1}{2^{\\frac{n}{2}}} \\otimes^{n}_{l=1} \\left[|0\\rangle+ e^{2\\pi ij2^{-l}}|1\\rangle \\right] = \\frac{1}{2^{\\frac{n}{2}}} (|0\\rangle+ e^{2\\pi i 0.j_n}|1\\rangle )(|0\\rangle+ e^{2\\pi i 0.j_{n-1}j_n}|1\\rangle)\\dots(|0\\rangle+ e^{2\\pi i 0.j_1j_2\\dots j_n}|1\\rangle)\\,,$$\n",
    "where $j_1j_2\\dots j_n$ represents the binary number $j_1 2^n + j_{2} 2^{n-1}   + \\dots + j_n 2^0 $ and $0.j_1j_2\\dots j_n$ represents the binary fraction $j_1/2+j_2/2^2+\\dots j_n/2^n$.\n",
    "\n",
    "See Nielsen, Michael A., and Isaac L. Chuang. [\"Quantum computation and quantum information.\"](https://en.wikipedia.org/wiki/Quantum_Computation_and_Quantum_Information) Chapter 5 for further explanation."
   ]
  },
  {
   "attachments": {},
   "cell_type": "markdown",
   "id": "408dc750",
   "metadata": {},
   "source": [
    "## Choose the number of qubits"
   ]
  },
  {
   "cell_type": "code",
   "execution_count": 5,
   "id": "73fb5a44",
   "metadata": {},
   "outputs": [],
   "source": [
    "n = 5\n",
    "N = 2^n"
   ]
  },
  {
   "attachments": {},
   "cell_type": "markdown",
   "id": "ce89edd6",
   "metadata": {},
   "source": [
    "## Primitive circuit \n",
    "The basic building block of the implementation the quantum Fourier transform (QFT) is the circuit that performs the operation\n",
    "$$|0\\rangle_k \\rightarrow |0\\rangle_k+ e^{2\\pi i 0.j_{k}\\dots j_n}|1\\rangle_k\\,.$$\n",
    "That is the operation that transforms the $k$ th qubit into a superposition with a relative phase determined by its initial states $j_k$ and the state of all of the subsequent bits $j_i$ for $k \\leq i \\leq n$.\n",
    "\n",
    "\n",
    "We can construct a unitary $U_k$ to implement this, where $U_k$ works as follows\n",
    "$$U_k \\otimes^{n}_{i=1} |0\\rangle_i = \\otimes^{k-1}_{i=1} |0\\rangle_i (|0\\rangle_k+ e^{2\\pi i 0.j_{k}\\dots j_n}|1\\rangle_k) \\otimes^{n}_{i=k+1} |0\\rangle_i\\,.$$\n",
    "In order to encode the correct phase $e^{2\\pi i 0.j_{k}\\dots j_n}$ $U_k$ must consist of a  series of controlled operations of the form\n",
    "$$  |0\\rangle_k \\langle 0|_k \\otimes|0\\rangle_{k+l} \\langle 0|_{k+l} +  |1\\rangle_k \\langle 1|_k\\otimes |0\\rangle_{k+l} \\langle 0|_{k+l} +  |0\\rangle_k \\langle 0|_k \\otimes|1\\rangle_{k+l} \\langle 1|_{k+l} + e^{2\\pi i/2^{l+1}}  |1\\rangle_k \\langle 1|_k  \\otimes|1\\rangle_{k+l} \\langle 1|_{k+l} $$\n",
    "that act on the $k$ th and $(k+l)$ th bits. This controlled operation adds the phase $\\exp(2\\pi i j_{k+l} 2^{-l-1})$, and by applying a sequence of these operations for $n-k\\geq l\\geq 1$ we can (almost!) achieved the desired total phase \n",
    "$$\\exp(2\\pi i j_k 2^{-1})\\exp(2\\pi i j_{k+1} 2^{-2})\\dots \\exp(2\\pi i j_n 2^{-(n-k+1)})\\,.$$\n",
    "\n",
    "The only missing phase is $\\exp(2\\pi i j_{k} 2^{-1})$ which cannot be created in this way since the control and target qubits would both be the $k$ th qubit. Instead note that \n",
    "$$  |0\\rangle_k + e^{2\\pi i/2}  |1\\rangle_k = |0\\rangle_k  - |1\\rangle_k $$\n",
    "which is nothing other than the Hadamard on $|0\\rangle_k$.\n"
   ]
  },
  {
   "attachments": {},
   "cell_type": "markdown",
   "id": "8c21081e",
   "metadata": {},
   "source": [
    "## Create the primitive circuit with Qpivot"
   ]
  },
  {
   "cell_type": "code",
   "execution_count": 6,
   "id": "74870d58",
   "metadata": {},
   "outputs": [],
   "source": [
    "# Create a Hadamard using Qunitary. \n",
    "h = Qunitary(\"h()^0\")\n",
    "#The hadamard has no parameters so we denote is as h(). '^0' indicates that is acts on the first qubit.\n",
    "\n",
    "# The controlled phase is given by\n",
    "c_p = Qunitary(\"cp(x)^01\")\n",
    "# where 'x' is a parameter we will set later. \n",
    "# '^01' indicates that the controlled phase acts on the first and second qubits."
   ]
  },
  {
   "cell_type": "code",
   "execution_count": 7,
   "id": "c9f22661",
   "metadata": {},
   "outputs": [],
   "source": [
    "# Qpivot automatically creates the sequence of controlled phase gates we need\n",
    "U_pivot =  Qpivot(mapping=h) + Qpivot(mapping=c_p, share_weights=False)\n",
    "# since the parameter of the controlled phase are different at each step, share_weights is set to False"
   ]
  },
  {
   "cell_type": "code",
   "execution_count": 8,
   "id": "fc18c607",
   "metadata": {},
   "outputs": [],
   "source": [
    "# Choose a 0 < k < n+1\n",
    "k = 2\n",
    "\n",
    "# Initialise n qubits, mask the previous k-1 qubits and add the pivot sequence\n",
    "U_k = Qinit(n) + Qmask(\"1\"*(k-1)+\"*\") + U_pivot\n",
    "# the string \"1\"*(k-1)+\"*\" indicates the qubits we want to mask with a 1,\n",
    "# and using the wildcard '*' to indicate the remaining unmasked qubits"
   ]
  },
  {
   "cell_type": "code",
   "execution_count": 9,
   "id": "011d26ab",
   "metadata": {},
   "outputs": [],
   "source": [
    "# create the circuit using the chose backend\n",
    "circuit= U_k(backend=backend)"
   ]
  },
  {
   "cell_type": "code",
   "execution_count": 10,
   "id": "008459bc",
   "metadata": {},
   "outputs": [],
   "source": [
    "# Set the parameters of the circuit using the assign_parameters method\n",
    "# The parameters are set to be 2*pi*2^(-i-2) where i is the index of the controlled phase\n",
    "params = {}\n",
    "i = 0\n",
    "for p in circuit.parameters:\n",
    "    params[p] = 2*np.pi*2**(-(i+2))\n",
    "    i += 1\n",
    "\n",
    "## TODO fix for other libraries!\n",
    "circuit = circuit.assign_parameters(params)"
   ]
  },
  {
   "attachments": {},
   "cell_type": "markdown",
   "id": "95f02eff",
   "metadata": {},
   "source": [
    "## Visualize the primitive circuit\n",
    "\n",
    "Change the value of k to convince yourself that is indeed works as intended."
   ]
  },
  {
   "cell_type": "code",
   "execution_count": 11,
   "id": "381c5e6b",
   "metadata": {},
   "outputs": [
    {
     "data": {
      "image/png": "[encoded data removed]",
      "text/plain": [
       "<Figure size 789.163x451.5 with 1 Axes>"
      ]
     },
     "execution_count": 11,
     "metadata": {},
     "output_type": "execute_result"
    }
   ],
   "source": [
    "circuit.draw(\"mpl\")"
   ]
  },
  {
   "attachments": {},
   "cell_type": "markdown",
   "id": "6469925a",
   "metadata": {},
   "source": [
    "## QFT structure in one line!"
   ]
  },
  {
   "cell_type": "code",
   "execution_count": 12,
   "id": "47b1b9e4",
   "metadata": {},
   "outputs": [],
   "source": [
    "qft = (\n",
    "    Qinit(n)\n",
    "    + (\n",
    "        Qpivot(mapping=Qunitary(\"h()^0\"))\n",
    "        + Qpivot(mapping=Qunitary(\"cp(x)^01\"), share_weights=False)\n",
    "        + Qmask(\"1*\")\n",
    "    )\n",
    "    * n\n",
    ")"
   ]
  },
  {
   "cell_type": "code",
   "execution_count": 13,
   "id": "351b96e8",
   "metadata": {},
   "outputs": [],
   "source": [
    "circuit= qft(backend=backend)"
   ]
  },
  {
   "cell_type": "code",
   "execution_count": 14,
   "id": "601f837f",
   "metadata": {},
   "outputs": [],
   "source": [
    "circuit= qft(backend=backend)\n",
    "\n",
    "# We can set the parameters of the circuit using the assign_parameters method\n",
    "# We set the parameters to be 2*pi*2^(-i-2) where i is the index of the controlled phase\n",
    "params = {}\n",
    "count = 0\n",
    "i = 0\n",
    "for p in circuit.parameters:\n",
    "    params[p] = 2*np.pi*2**(-(i+2))\n",
    "    i+=1\n",
    "    if i == n-1-count:\n",
    "        count += 1\n",
    "        i = 0\n",
    "\n",
    "## TODO fix for other libraries!\n",
    "circuit = circuit.assign_parameters(params)"
   ]
  },
  {
   "cell_type": "code",
   "execution_count": 15,
   "id": "70270dcd",
   "metadata": {},
   "outputs": [
    {
     "data": {
      "image/png": "[encoded data removed]",
      "text/plain": [
       "<Figure size 2210.55x953.167 with 1 Axes>"
      ]
     },
     "execution_count": 15,
     "metadata": {},
     "output_type": "execute_result"
    }
   ],
   "source": [
    "circuit.draw(\"mpl\")"
   ]
  },
  {
   "attachments": {},
   "cell_type": "markdown",
   "id": "bbb43f8d",
   "metadata": {},
   "source": [
    "## Does this perform as intended?\n",
    "\n",
    "It turns out that the circuit transforms the state $|0\\rangle$ (understood as all qubits in state $|0\\rangle$) to the state\n",
    "$$\\frac{1}{2^{\\frac{n}{2}}} (|0\\rangle+ e^{2\\pi i 0.j_1j_2\\dots j_n}|1\\rangle) \\dots (|0\\rangle+ e^{2\\pi i 0.j_{n-1}j_n}|1\\rangle) (|0\\rangle+ e^{2\\pi i 0.j_n}|1\\rangle )\\,.$$ \n",
    "You may notice that in fact the order of the qubits is reversed compared to the theoretical QFT described earlier. This can be fixed by performing a series of \"swap\" operation. \n",
    "\n",
    "For simplicity we can assume that the user is aware that they should in fact read all output bit strings in reverse. (Note that Qiskitreadouts form the bottom to the top of the circuit, so this is  automatically taken care of if you are using the Qiskit library.) "
   ]
  },
  {
   "cell_type": "code",
   "execution_count": null,
   "id": "f52c5f2e",
   "metadata": {},
   "outputs": [],
   "source": []
  },
  {
   "attachments": {},
   "cell_type": "markdown",
   "id": "7acef745",
   "metadata": {},
   "source": [
    "## Experiments\n",
    "\n",
    "Zero intial state, equal superposition, random state -> compare to fft"
   ]
  },
  {
   "cell_type": "code",
   "execution_count": null,
   "id": "c42875bd",
   "metadata": {},
   "outputs": [],
   "source": []
  },
  {
   "cell_type": "code",
   "execution_count": null,
   "id": "5b61d34d",
   "metadata": {},
   "outputs": [],
   "source": []
  }
 ],
 "metadata": {
  "kernelspec": {
   "display_name": ".venv",
   "language": "python",
   "name": "python3"
  },
  "language_info": {
   "codemirror_mode": {
    "name": "ipython",
    "version": 3
   },
   "file_extension": ".py",
   "mimetype": "text/x-python",
   "name": "python",
   "nbconvert_exporter": "python",
   "pygments_lexer": "ipython3",
   "version": "3.11.2"
  }
 },
 "nbformat": 4,
 "nbformat_minor": 5
}
