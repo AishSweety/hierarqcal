{
 "cells": [
  {
   "cell_type": "markdown",
   "metadata": {},
   "source": [
    "# HierarQcal Overview\n",
    "\n",
    "\n",
    "<img src=\"https://github.com/matt-lourens/hierarqcal/blob/master/img/dalle_img.png?raw=true\" width=\"300\" align=\"left\" style=\"padding-right:10px\">\n",
    "\n",
    "<p style=\"height:150px\">\n",
    "<b>HierarQcal</b> is a quantum circuit builder that simplifies circuit design, composition, generation, scaling, and parameter management. It provides an intuitive and dynamic data structure for constructing computation graphs hierarchically. This enables the generation of complex quantum circuit architectures, which is particularly useful for Neural Architecture Search (NAS), where an algorithm can determine the most efficient circuit architecture for a specific task and hardware. HierarQcal also facilitates the creation of hierarchical quantum circuits, such as those resembling tensor tree networks or MERA, with a single line of code. The package is open-source and framework-agnostic, it includes tutorials for Qiskit, PennyLane, and Cirq. Built to address the unique challenges of applying NAS to Quantum Computing, HierarQcal offers a novel approach to explore and optimize quantum circuit architectures. \n",
    "</p>\n",
    "<br/>\n",
    "<br/>\n",
    "<br/>\n",
    "<br/>\n",
    "<br/>\n",
    "<br/>\n",
    "<br/>\n",
    "\n",
    "\n",
    "*A robot building itself with artificial intelligence, pencil drawing -  generated with* [Dall E 2](https://openai.com/dall-e-2/)"
   ]
  },
  {
   "cell_type": "code",
   "execution_count": null,
   "metadata": {
    "tags": []
   },
   "outputs": [],
   "source": [
    "import numpy as np\n",
    "import sympy as sp\n",
    "import matplotlib.pyplot as plt\n",
    "from hierarqcal import (\n",
    "    Qhierarchy,\n",
    "    Qcycle,\n",
    "    Qpermute,\n",
    "    Qmask,\n",
    "    Qunmask,\n",
    "    Qinit,\n",
    "    Qmotif,\n",
    "    Qmotifs,\n",
    "    plot_motif,\n",
    "    Qunitary,\n",
    ")"
   ]
  },
  {
   "cell_type": "code",
   "execution_count": null,
   "metadata": {
    "tags": []
   },
   "outputs": [],
   "source": [
    "backend = \"qiskit\""
   ]
  },
  {
   "cell_type": "code",
   "execution_count": null,
   "metadata": {
    "tags": []
   },
   "outputs": [],
   "source": [
    "if backend == \"qiskit\":\n",
    "    import qiskit\n",
    "    from hierarqcal.qiskit.qiskit_circuits import V2, U2, V4\n",
    "\n",
    "    def get_circuit(hierq):\n",
    "        return hierq(backend=\"qiskit\")\n",
    "\n",
    "    def draw_circuit(circuit, **kwargs):\n",
    "        return circuit.draw(output=\"mpl\", **kwargs)\n",
    "\n",
    "elif backend == \"cirq\":\n",
    "    import cirq\n",
    "    from cirq.contrib.svg import SVGCircuit\n",
    "    from hierarqcal.cirq.cirq_circuits import V2, U2, V4\n",
    "    import logging\n",
    "    logging.getLogger('matplotlib.font_manager').disabled = True\n",
    "    def get_circuit(hierq):\n",
    "        return hierq(backend=\"cirq\")\n",
    "\n",
    "    def draw_circuit(circuit, **kwargs):\n",
    "        return SVGCircuit(circuit, **kwargs)\n",
    "\n",
    "elif backend == \"pennylane\":\n",
    "    import pennylane as qml\n",
    "    from hierarqcal.pennylane.pennylane_circuits import V2, U2, V4\n",
    "\n",
    "    def get_circuit(hierq):\n",
    "        dev = qml.device(\"default.qubit\", wires=hierq.tail.Q)\n",
    "\n",
    "        @qml.qnode(dev)\n",
    "        def circuit():\n",
    "            if isinstance(next(hierq.get_symbols(), False), sp.Symbol):\n",
    "                # Pennylane doesn't support symbolic parameters, so if no symbols were set (i.e. they are still symbolic), we initialize them randomly\n",
    "                hierq.set_symbols(np.random.uniform(0, 2 * np.pi, hierq.n_symbols))\n",
    "            hierq(\n",
    "                backend=\"pennylane\"\n",
    "            )  # This executes the compute graph in order\n",
    "            return [qml.expval(qml.PauliZ(wire)) for wire in hierq.tail.Q]\n",
    "\n",
    "        return circuit\n",
    "\n",
    "    def draw_circuit(circuit, **kwargs):\n",
    "        fig, ax = qml.draw_mpl(circuit)(**kwargs)\n",
    "u2 = Qunitary(U2, 1, 2)\n",
    "v2 = Qunitary(V2, 0, 2)\n",
    "v4 = Qunitary(V4, 0, 4)"
   ]
  },
  {
   "cell_type": "markdown",
   "metadata": {},
   "source": [
    "## Binary trees"
   ]
  },
  {
   "cell_type": "code",
   "execution_count": null,
   "metadata": {
    "tags": []
   },
   "outputs": [],
   "source": []
  },
  {
   "cell_type": "code",
   "execution_count": null,
   "metadata": {
    "tags": []
   },
   "outputs": [],
   "source": [
    "hierq = Qinit(8) + (Qcycle(mapping=u2) + Qmask(\"inside\", mapping=v2))*3\n",
    "circuit = get_circuit(hierq)\n",
    "draw_circuit(circuit)"
   ]
  },
  {
   "cell_type": "markdown",
   "metadata": {},
   "source": [
    "## MERA from Grant et al.\n",
    "The Multi-scale Entanglement Renormalization Ansatz (MERA) architecture from [Hierarchical quantum classifiers, Grant et al.](https://www.nature.com/articles/s41534-018-0116-9). We generate a N-qubit MERA circuit, change N to 4,8,16,32 to see how simple scaling the same circuit design is. Note that v4 is a 4-qubit unitary, which illustrates how primitves can handle N-qubit unitaries."
   ]
  },
  {
   "cell_type": "code",
   "execution_count": null,
   "metadata": {
    "tags": []
   },
   "outputs": [],
   "source": [
    "N=8\n",
    "c1 = Qcycle(1,2,1,mapping=Qunitary(\"crx(x)^01\"), boundary=\"open\")\n",
    "c2 = Qcycle(1,2,0,mapping=Qunitary(\"crx(x)^01\"), boundary=\"open\")\n",
    "m1 = Qmask(\"1001\", merge_within=\"1001\", steps=[2,2,1], boundaries=[\"open\",\"open\",\"open\"] ,mapping=Qunitary(\"cnot()^01;cnot()^32\"))\n",
    "hierq = Qinit(N) + c1 + (m1+c2)*int(np.log2(N))\n",
    "circuit = hierq(backend=\"qiskit\")\n",
    "circuit.draw(\"mpl\")"
   ]
  },
  {
   "cell_type": "markdown",
   "metadata": {},
   "source": [
    "## Sub motif as a mapping for a motif"
   ]
  },
  {
   "cell_type": "markdown",
   "metadata": {},
   "source": [
    "### A cycle of cycles"
   ]
  },
  {
   "cell_type": "code",
   "execution_count": null,
   "metadata": {
    "tags": []
   },
   "outputs": [],
   "source": [
    "m1 = Qinit(4) + (Qcycle(mapping=u2) + Qmask(\"right\", mapping=v2)) * 2\n",
    "circuit = get_circuit(m1)\n",
    "draw_circuit(circuit)"
   ]
  },
  {
   "cell_type": "code",
   "execution_count": null,
   "metadata": {
    "tags": []
   },
   "outputs": [],
   "source": [
    "hierq = Qinit(10) + Qcycle(1, 3, mapping=m1, boundary=\"open\")\n",
    "circuit = get_circuit(hierq)\n",
    "draw_circuit(circuit)"
   ]
  },
  {
   "cell_type": "markdown",
   "metadata": {},
   "source": [
    "### A cycle of cycles of permutations"
   ]
  },
  {
   "cell_type": "code",
   "execution_count": null,
   "metadata": {
    "tags": []
   },
   "outputs": [],
   "source": [
    "subsub = Qinit(3) + Qpermute(mapping=u2, share_weights=False, combinations=True)\n",
    "circuit = get_circuit(subsub)\n",
    "draw_circuit(circuit)"
   ]
  },
  {
   "cell_type": "code",
   "execution_count": null,
   "metadata": {
    "tags": []
   },
   "outputs": [],
   "source": [
    "sub = Qinit(11) + Qcycle(\n",
    "    1, 2, 0, mapping=subsub, share_weights=True, boundary=\"open\"\n",
    ")\n",
    "circuit = get_circuit(sub)\n",
    "draw_circuit(circuit)"
   ]
  },
  {
   "cell_type": "code",
   "execution_count": null,
   "metadata": {
    "tags": []
   },
   "outputs": [],
   "source": [
    "hierq = Qinit(22) + Qcycle(1, 11, 0, mapping=sub, share_weights=False, boundary=\"open\")\n",
    "circuit = get_circuit(hierq)\n",
    "draw_circuit(circuit)"
   ]
  },
  {
   "cell_type": "markdown",
   "metadata": {},
   "source": [
    "## Parameter management\n"
   ]
  },
  {
   "cell_type": "code",
   "execution_count": null,
   "metadata": {
    "tags": []
   },
   "outputs": [],
   "source": [
    "m1 = Qinit(4) + (Qcycle(mapping=u2, share_weights=False) + Qmask(\"right\", mapping=v2)) * 2\n",
    "hierq = Qinit(10) + Qcycle(1, 3, mapping=m1, boundary=\"open\", share_weights=False)\n",
    "circuit = get_circuit(hierq)\n",
    "draw_circuit(circuit)"
   ]
  },
  {
   "cell_type": "code",
   "execution_count": null,
   "metadata": {
    "tags": []
   },
   "outputs": [],
   "source": [
    "m1 = Qinit(4) + (Qcycle(mapping=u2, share_weights=False) + Qmask(\"right\", mapping=v2)) * 2\n",
    "hierq = Qinit(10) + Qcycle(1, 3, mapping=m1, boundary=\"open\", share_weights=True)\n",
    "circuit = get_circuit(hierq)\n",
    "draw_circuit(circuit)"
   ]
  },
  {
   "cell_type": "code",
   "execution_count": null,
   "metadata": {
    "tags": []
   },
   "outputs": [],
   "source": [
    "m1 = Qinit(4) + (Qcycle(mapping=u2, share_weights=True) + Qmask(\"right\", mapping=v2)) * 2\n",
    "hierq = Qinit(10) + Qcycle(1, 3, mapping=m1, boundary=\"open\", share_weights=False)\n",
    "circuit = get_circuit(hierq)\n",
    "draw_circuit(circuit)"
   ]
  },
  {
   "cell_type": "code",
   "execution_count": null,
   "metadata": {
    "tags": []
   },
   "outputs": [],
   "source": [
    "m1 = Qinit(4) + (Qcycle(mapping=u2, share_weights=True) + Qmask(\"right\", mapping=v2)) * 2\n",
    "hierq = Qinit(10) + Qcycle(1, 3, mapping=m1, boundary=\"open\", share_weights=True)\n",
    "circuit = get_circuit(hierq)\n",
    "draw_circuit(circuit)"
   ]
  },
  {
   "cell_type": "markdown",
   "metadata": {},
   "source": [
    "### Specifying rotational angles"
   ]
  },
  {
   "cell_type": "code",
   "execution_count": null,
   "metadata": {},
   "outputs": [],
   "source": [
    "m1 = Qinit(4) + (Qcycle(mapping=u2, share_weights=True) + Qmask(\"right\", mapping=v2)) * 2\n",
    "hierq = Qinit(10) + Qcycle(1, 3, mapping=m1, boundary=\"open\", share_weights=True)\n",
    "hierq.set_symbols(np.random.uniform(0, 2 * np.pi, hierq.n_symbols))\n",
    "list(hierq.get_symbols())"
   ]
  },
  {
   "cell_type": "code",
   "execution_count": null,
   "metadata": {},
   "outputs": [],
   "source": [
    "circuit = get_circuit(hierq)\n",
    "draw_circuit(circuit)"
   ]
  },
  {
   "cell_type": "markdown",
   "metadata": {},
   "source": [
    "## Masking"
   ]
  },
  {
   "cell_type": "code",
   "execution_count": null,
   "metadata": {
    "tags": []
   },
   "outputs": [],
   "source": [
    "hierq = Qinit(8) + (Qcycle(1, 1, 0, mapping=u2) + Qmask(\"right\"))*3 + (Qunmask(\"previous\") + Qcycle(1, 1, 0, mapping=u2))*3\n",
    "circuit = get_circuit(hierq)\n",
    "draw_circuit(circuit)"
   ]
  },
  {
   "cell_type": "code",
   "execution_count": null,
   "metadata": {
    "tags": []
   },
   "outputs": [],
   "source": [
    "hierq = Qinit(8) + Qmask(\"1**1\", connection_type=\"nearest_tower\", mapping=u2)*4\n",
    "circuit = get_circuit(hierq)\n",
    "draw_circuit(circuit)"
   ]
  },
  {
   "cell_type": "code",
   "execution_count": null,
   "metadata": {
    "tags": []
   },
   "outputs": [],
   "source": [
    "hierq = Qinit(8) + Qmask(\"1**1\", stride=2, connection_type=\"cycle\", mapping=u2)*4\n",
    "circuit = get_circuit(hierq)\n",
    "draw_circuit(circuit)"
   ]
  },
  {
   "cell_type": "markdown",
   "metadata": {},
   "source": [
    "## Specifying unitaries"
   ]
  },
  {
   "cell_type": "code",
   "execution_count": null,
   "metadata": {
    "tags": []
   },
   "outputs": [],
   "source": [
    "if backend == \"qiskit\":\n",
    "    from qiskit.circuit import QuantumRegister\n",
    "    def anz1(bits, symbols=None, circuit=None, **kwargs):\n",
    "        \n",
    "        # Assume bits are strings and in the correct QASM format\n",
    "        q0, q1 = QuantumRegister(1, bits[0]), QuantumRegister(1, bits[1])\n",
    "        circuit.crz(symbols[0], q0, q1)\n",
    "        circuit.x(q0)\n",
    "        circuit.crx(symbols[1], q0, q1)\n",
    "\n",
    "        return circuit\n",
    "\n",
    "    def anz2(bits, symbols=None, circuit=None, **kwargs):\n",
    "        # Assume bits are strings and in the correct QASM format\n",
    "        q0, q1 = QuantumRegister(1, bits[0]), QuantumRegister(1, bits[1])\n",
    "        circuit.rz(symbols[0], q1)\n",
    "        circuit.cnot(q1, q0)\n",
    "        circuit.rz(symbols[1], q0)\n",
    "        circuit.ry(symbols[2], q1)\n",
    "        circuit.cnot(q0, q1)\n",
    "        circuit.ry(symbols[3], q1)\n",
    "        circuit.cnot(q1, q0)\n",
    "        circuit.rz(symbols[1], q0)\n",
    "        return circuit\n",
    "\n",
    "elif backend == \"cirq\":\n",
    "    import cirq\n",
    "    # Masking circuit\n",
    "    def anz1(bits, symbols=None, circuit=None):\n",
    "        q0, q1 = cirq.LineQubit(bits[0]), cirq.LineQubit(bits[1])\n",
    "        circuit += cirq.rz(symbols[0]).on(q1).controlled_by(q0)\n",
    "        circuit += cirq.X(q0)\n",
    "        circuit += cirq.rx(symbols[1]).on(q1).controlled_by(q0)\n",
    "\n",
    "        return circuit\n",
    "\n",
    "    # Cycle circuit\n",
    "    def anz2(bits, symbols=None, circuit=None):\n",
    "        q0, q1 = cirq.LineQubit(bits[0]), cirq.LineQubit(bits[1])\n",
    "        circuit += cirq.rz(symbols[0]).on(q1)\n",
    "        circuit += cirq.CNOT(q1, q0)\n",
    "        circuit += cirq.rz(symbols[1]).on(q0)\n",
    "        circuit += cirq.ry(symbols[2]).on(q1)\n",
    "        circuit += cirq.CNOT(q0, q1)\n",
    "        circuit += cirq.ry(symbols[3]).on(q1)\n",
    "        circuit += cirq.CNOT(q1, q0)\n",
    "        circuit += cirq.rz(symbols[4]).on(q0)\n",
    "        return circuit\n",
    "\n",
    "elif backend == \"pennylane\":\n",
    "    # Masking circuit\n",
    "    def anz1(bits, symbols=None):\n",
    "        qml.CRZ(symbols[0], wires=[bits[0], bits[1]])\n",
    "        qml.PauliX(wires=bits[0])\n",
    "        qml.CRX(symbols[1], wires=[bits[0], bits[1]])\n",
    "\n",
    "    # Cycle circuit\n",
    "    def anz2(bits, symbols=None):\n",
    "        qml.RZ(symbols[0], wires=bits[1])\n",
    "        qml.CNOT(wires=[bits[1], bits[0]])\n",
    "        qml.RZ(symbols[1], wires=bits[0])\n",
    "        qml.RY(symbols[2], wires=bits[1])\n",
    "        qml.CNOT(wires=[bits[0], bits[1]])\n",
    "        qml.RY(symbols[3], wires=bits[1])\n",
    "        qml.CNOT(wires=[bits[1], bits[0]])\n",
    "        qml.RZ(symbols[4], wires=bits[0])\n",
    "\n",
    "\n",
    "u = Qunitary(anz2, 5, 2)\n",
    "v = Qunitary(anz1, 2, 2)"
   ]
  },
  {
   "cell_type": "code",
   "execution_count": null,
   "metadata": {
    "tags": []
   },
   "outputs": [],
   "source": [
    "ansatz_1 = Qinit(2) + Qcycle(mapping=u)\n",
    "circuit = get_circuit(ansatz_1)\n",
    "draw_circuit(circuit)"
   ]
  },
  {
   "cell_type": "code",
   "execution_count": null,
   "metadata": {
    "tags": []
   },
   "outputs": [],
   "source": [
    "ansatz_2 = Qinit(2) + Qmask(\"right\", mapping=v)\n",
    "circuit = get_circuit(ansatz_2)\n",
    "draw_circuit(circuit)"
   ]
  },
  {
   "cell_type": "code",
   "execution_count": null,
   "metadata": {
    "tags": []
   },
   "outputs": [],
   "source": [
    "hierq = Qinit(8) + (Qcycle(1, mapping=u) + Qmask(pattern=\"right\", mapping=v)) * 3\n",
    "circuit = get_circuit(hierq)\n",
    "draw_circuit(circuit)"
   ]
  },
  {
   "cell_type": "code",
   "execution_count": null,
   "metadata": {},
   "outputs": [],
   "source": []
  }
 ],
 "metadata": {
  "kernelspec": {
   "display_name": "Python 3 (ipykernel)",
   "language": "python",
   "name": "python3"
  },
  "language_info": {
   "codemirror_mode": {
    "name": "ipython",
    "version": 3
   },
   "file_extension": ".py",
   "mimetype": "text/x-python",
   "name": "python",
   "nbconvert_exporter": "python",
   "pygments_lexer": "ipython3",
   "version": "3.10.9"
  }
 },
 "nbformat": 4,
 "nbformat_minor": 4
}
