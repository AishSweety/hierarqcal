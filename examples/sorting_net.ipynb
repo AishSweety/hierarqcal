{
 "cells": [
  {
   "cell_type": "markdown",
   "id": "24c554d5-cd20-4190-a9c7-ad4cf06f4f13",
   "metadata": {},
   "source": [
    "# Sorting Networks with HierarQcal\n",
    "\n",
    "Sorting Networks are networks of comparators designed specifically for sorting. A comparator is a device with two inputs $x$ and $y$ and two\n",
    "outputs $x'$ and $y'$. For an increasing comparator, $x' = min(x, y)$ and $y' = max(x, y)$; and vice-versa. We will denote an increasing comparator by $\\oplus$ or $\\textbullet$ and a decreasing comparator by $\\ominus$ as shown in the image below. By default $\\oplus$ is the comparator used unless stated. The time complexity of the network is proportional to its depth. The number of comparisons in the network is als used as a metric to define the efficiency of the network.\n",
    "\n",
    "<center>\n",
    "<img src='./comparator.png' width=200 />\n",
    "<center>\n",
    "\n",
    "Below is an example of a sorting network (aka Knuth diagram) to sort an array of size 4. The comparator here swaps the values if and only if the top wire's value is greater or equal to the bottom wire's value (increasing comparator).\n",
    "\n",
    "<center>\n",
    "<img src='https://upload.wikimedia.org/wikipedia/commons/9/9b/SimpleSortingNetworkFullOperation.svg' width=700 />\n",
    "<center>\n",
    "\n",
    "In this tutorial, we will build Bubble, Insertion an Bitonic sorting networks using HierarQcal. It will become evident how HierarQcal simplifies building sorting networks."
   ]
  },
  {
   "cell_type": "code",
   "execution_count": null,
   "id": "8063e428-d48a-46f6-a673-9b3834d02d21",
   "metadata": {},
   "outputs": [],
   "source": [
    "from hierarqcal import (\n",
    "    Qcycle,\n",
    "    Qinit,\n",
    "    Qmask,\n",
    "    Qunmask,\n",
    "    plot_circuit,\n",
    "    Qunitary,\n",
    ")\n",
    "import sympy as sp\n",
    "import numpy as np"
   ]
  },
  {
   "cell_type": "markdown",
   "id": "d4978a6e-2107-4583-8ec8-26dd5814b494",
   "metadata": {},
   "source": [
    "We now define the two comparators that will be used in the sorting networks."
   ]
  },
  {
   "cell_type": "code",
   "execution_count": null,
   "id": "c5f1a609-404a-4081-9f83-e00ef7c26d4c",
   "metadata": {},
   "outputs": [],
   "source": [
    "def increasing_comparator(bits, symbols=None, state=None):\n",
    "    v1, v2 = state[bits[0]], state[bits[1]]\n",
    "    if v1 > v2:\n",
    "        state[bits[0]], state[bits[1]] = v2, v1\n",
    "    return state\n",
    "\n",
    "\n",
    "def decreasing_comparator(bits, symbols=None, state=None):\n",
    "    v1, v2 = state[bits[0]], state[bits[1]]\n",
    "    if v1 < v2:\n",
    "        state[bits[0]], state[bits[1]] = v2, v1\n",
    "    return state\n",
    "\n",
    "\n",
    "# Create 2 qubit unitaries of the comparators\n",
    "i_comparator = Qunitary(increasing_comparator, n_symbols=0, arity=2)\n",
    "d_comparator = Qunitary(decreasing_comparator, n_symbols=0, arity=2)"
   ]
  },
  {
   "cell_type": "markdown",
   "id": "e7e83638-303e-4971-b3dc-f3352907c399",
   "metadata": {},
   "source": [
    "## Bubble Network\n",
    "\n",
    "This is based on the bubble sort algorithm which compares every adjacent pair of elements and swaps them if they are not in the right order (the top wire value is larger than the bottom wire value). In our network, the topmost wire (indexed 0) denotes the first element. After each iteration, one less element (the last one) is needed to be compared until there are no more elements left to be compared. \n",
    "\n",
    "Since the bubble network compares adjacent pairs in every iteration, we can easily create such a network using the `Qcyle` primitive of HierarQcal."
   ]
  },
  {
   "cell_type": "code",
   "execution_count": null,
   "id": "f2ea6ee8-d9d8-4018-a621-dcee957bc00e",
   "metadata": {},
   "outputs": [],
   "source": [
    "array = [8, 5, 2, 1, 3, 4, 6, 7, 7, 7]\n",
    "nb = len(array)  # number of indices\n",
    "\n",
    "bubble_net = (\n",
    "    Qcycle(stride=1, step=1, offset=0, mapping=i_comparator, boundary=\"open\")\n",
    "    + Qmask(\"*1\") # Ignore the last element in every iteration\n",
    ") * (nb - 1)\n",
    "\n",
    "hierq = Qinit(nb, state=array.copy()) + bubble_net\n",
    "\n",
    "plot_circuit(hierq, plot_width=40)\n",
    "sorted_array = hierq()\n",
    "\n",
    "print(f\"Starting array: {array}\\n Sorted array: {sorted_array}\")"
   ]
  },
  {
   "cell_type": "markdown",
   "id": "c1cb4c03-d130-439a-be3f-a22d51827a34",
   "metadata": {},
   "source": [
    "## Insertion Network\n",
    "\n",
    "Insertion sort is a simple sorting algorithm that builds the final sorted array (or list) one item at a time by comparisons. The idea is to have two sets, sorted and unsorted. At every iteration, it removes one element from the unsorted part, finds the location it belongs within the sorted list, and inserts it there.\n",
    "\n",
    "To create the insertion network, we define a function `insert` which, for a given index `i`, finds and inserts the element at that index at the right place in the sorted part. It does so by first masking all the elements after `i` and compares the element at `i` it with the elements in the sorted part of the array. Finally it unmasks the masked part."
   ]
  },
  {
   "cell_type": "code",
   "execution_count": null,
   "id": "a385e2b5-ce14-4b61-b0ee-988b66033ae4",
   "metadata": {},
   "outputs": [],
   "source": [
    "insert = (\n",
    "    lambda i: Qmask(\"0\" * (i + 1) + \"!\")\n",
    "    + Qcycle(\n",
    "        stride=1,\n",
    "        step=1,\n",
    "        offset=0,\n",
    "        mapping=i_comparator,\n",
    "        boundary=\"open\",\n",
    "        edge_order=[-1],\n",
    "    )\n",
    "    + Qunmask(\"previous\")\n",
    ")\n",
    "\n",
    "insertion_net = insert(0)\n",
    "for i in range(1, nb):\n",
    "    insertion_net += insert(i)\n",
    "\n",
    "hierq = Qinit(nb, state=array.copy()) + insertion_net\n",
    "\n",
    "plot_circuit(hierq, plot_width=40)\n",
    "sorted_array = hierq()\n",
    "\n",
    "print(f\"Starting array: {array}\\n Sorted array: {sorted_array}\")"
   ]
  },
  {
   "cell_type": "markdown",
   "id": "24cda553-4d91-46b0-aad5-022ca9bf4b51",
   "metadata": {},
   "source": [
    "## Extending Insertion and Bubble networks\n",
    "\n",
    "Building sorting networks of any size is straightforward using techniques like insertion and selection. Imagine you already have a network that sorts $n$ numbers. To handle $n+1$ numbers, you can either insert the new number into the existing network (like in insertion sort) or find the smallest number first and sort the rest (like in bubble sort). Both approaches work and can be built upon recursively.\n",
    "\n",
    "<center>\n",
    "<figure style=\"display: inline-block;\">\n",
    "    <img src='https://upload.wikimedia.org/wikipedia/commons/thumb/6/66/Recursive-insertion-sorting-network.svg/1280px-Recursive-insertion-sorting-network.svg.png' alt='extending network based on insertion sort' width=300 />\n",
    "    <figcaption>This sorting network recursively sorts the first part (n items), <br>then inserts the remaining element, similar to insertion sort.</figcaption>\n",
    "</figure>\n",
    "<figure style=\"display: inline-block;\">\n",
    "    <img src='https://upload.wikimedia.org/wikipedia/commons/thumb/e/e5/Recursive-bubble-sorting-network.svg/1280px-Recursive-bubble-sorting-network.svg.png' alt='extending network based on insertion sort' width=300 />\n",
    "    <figcaption>Sorts like bubble sort, iteratively sinking the largest value <br> and then sorting the remaining elements.</figcaption>\n",
    "</figure>\n",
    "</center>"
   ]
  },
  {
   "cell_type": "code",
   "execution_count": null,
   "id": "830594bc-e045-4038-afa6-68d3c9c5167a",
   "metadata": {},
   "outputs": [],
   "source": [
    "# Extending bubble network to incorporate one more element\n",
    "\n",
    "array = [8, 5, 2, 1, 3, 9, 4, 6, 7, 7, 7]\n",
    "nb = len(array)\n",
    "\n",
    "ex_hierq = Qinit(nb, state=array.copy())\n",
    "ex_hierq += Qcycle(\n",
    "    stride=1, step=1, offset=0, mapping=i_comparator, boundary=\"open\"\n",
    ") + Qmask(\"*1\")\n",
    "ex_hierq += bubble_net\n",
    "\n",
    "plot_circuit(ex_hierq, plot_width=45)\n",
    "sorted_array = ex_hierq()\n",
    "\n",
    "print(f\"Starting array: {array}\\n Sorted array: {sorted_array}\")"
   ]
  },
  {
   "cell_type": "code",
   "execution_count": null,
   "id": "05c4186a-78a4-4ea9-a5ea-6785a35e769e",
   "metadata": {},
   "outputs": [],
   "source": [
    "# Extending insertion network to incorporate one more element\n",
    "\n",
    "ex_hierq = Qinit(nb, state=array.copy())\n",
    "ex_hierq += Qmask(\"*1\")\n",
    "ex_hierq += insertion_net\n",
    "ex_hierq += Qunmask(\"!\")\n",
    "ex_hierq += Qcycle(\n",
    "    stride=1, step=1, offset=0, mapping=i_comparator, boundary=\"open\", edge_order=[-1]\n",
    ")\n",
    "\n",
    "plot_circuit(ex_hierq, plot_width=50)\n",
    "sorted_array = ex_hierq()\n",
    "\n",
    "print(f\"Starting array: {array}\\n Sorted array: {sorted_array}\")"
   ]
  },
  {
   "cell_type": "markdown",
   "id": "2119be34-992a-4a8c-8c06-9830c8df14c2",
   "metadata": {},
   "source": [
    "## Bitonic Sorter\n",
    "\n",
    "### Sorting a Bitonic Sequence\n",
    "\n",
    "A bitonic sequence has two tones – increasing and decreasing, or vice versa. Any cyclic rotation of such networks is also considered bitonic. For example, $[1,3,5,7,5,3,1]$ is a bitonic sequence as it first increases and then decreases. $[5,7,5,3,1,1,3]$ is also a bitonic sequence (circular shift of the first bitonic sequence). For this tutorial, without loss of generality, we will assume bitonic sequences of size in powers of 2, where half of the sequence is increasing and other half is decreasing.\n",
    "\n",
    "Consider a bitonic sequence $s = [x_0, x_1, \\dots x_{n-1}]$ such that $x_0 \\leq \\dots \\leq x_{n/2 - 1}$ and $x_{n/2} \\geq \\dots \\geq x_{n-1}$. Now consider the following subsequences\n",
    "\n",
    "$$\n",
    "s_1 = [\\min(x_0, x_{n/2}), \\min(x_1, x_{n/2 + 1}) \\dots \\min(x_{n/2 - 1}, x_{n-1})]\n",
    "$$\n",
    "$$\n",
    "s_2 = [\\max(x_0, x_{n/2}), \\max(x_1, x_{n/2 + 1}) \\dots \\max(x_{n/2 - 1}, x_{n-1})]\n",
    "$$\n",
    "\n",
    "Note that $s_1$ and $s_2$ are both bitonic and each element of $s_1$ is less that every element in $s_2$. We can apply the procedure recursively on $s_1$ and $s_2$ to get the sorted sequence. Below example shows sorting a bitonic sequence of size 16 with $\\log 16$ operations.\n",
    "\n",
    "<center>\n",
    "<img src='./bitonic_sort.png' width=800 />\n",
    "</center>\n",
    "\n",
    "Given a bitonic sequence, we can build such a network and call it bitonic merging network. We denote a bitonic merging network with $n$ inputs by $\\oplus$ BM[n], where $\\oplus$ denotes that increasing comparator is used throughout the network. For an input of size 16, the network ($\\oplus$ BM[16]) is shown below. Every box shows one iteration of the merging algorithm\n",
    "\n",
    "<center>\n",
    "<img src='./bitonic_merging_network.png' width=700 />\n",
    "</center>\n",
    "\n",
    "### Implementation with HierarQcal\n",
    "\n",
    "As we can see in the figure above, we can implement a bitonic merging network using the `Qcycle` primitive. In this case, we will use Qcycle two times in a nested fashion as shown below.\n",
    "\n",
    "```python\n",
    "Qcycle(\n",
    "    ...\n",
    "    mapping=Qcycle(\n",
    "                ...\n",
    "                mapping=comparator\n",
    "                ...\n",
    "            )\n",
    ")\n",
    "```\n",
    "The innermost `Qcycle` will be used to construct the merging networks on subsequences and the outermost `Qcycle` will repeat them for other subsequences. For example, in the above figure, in the second box, the merging network from wires `0000` till `0111` is created using the innermost `Qcycle` and the same is repeated on wires `1000` till `1111` using the outermost `Qcycle`."
   ]
  },
  {
   "cell_type": "code",
   "execution_count": null,
   "id": "785855a9-d3be-4af9-beb9-c9ab224f135c",
   "metadata": {},
   "outputs": [],
   "source": [
    "bitonic_array = [3, 5, 8, 9, 10, 12, 14, 20, 95, 90, 60, 40, 35, 23, 18, 0]\n",
    "nb = len(bitonic_array)\n",
    "\n",
    "# Inner Qcycle\n",
    "bitonic_merge = lambda n, stride, comp: Qinit(n) + Qcycle(\n",
    "    stride=stride, step=1, offset=0, mapping=comp, boundary=\"open\"\n",
    ")\n",
    "\n",
    "# Outer Qcycle\n",
    "bitonic_merge_cycle = lambda n, stride1, stride2, step, comp, off=0: Qcycle(\n",
    "    stride=stride2,\n",
    "    step=step,\n",
    "    offset=off,\n",
    "    mapping=bitonic_merge(n, stride1, comp),\n",
    "    boundary=\"open\",\n",
    ")\n",
    "\n",
    "# This function is the BM[n] and uses the inner and outer qcycles to make a \n",
    "# complete bitonic merging network over the given wires.\n",
    "# The comparator is passed as an argument.\n",
    "def bitonic_merging_network(nqubits, comp=i_comparator):\n",
    "    net = bitonic_merge_cycle(nqubits, nqubits // 2, 1, nqubits, comp)\n",
    "    i = nqubits // 2\n",
    "    while i >= 2:\n",
    "        net += bitonic_merge_cycle(i, i // 2, 1, i, comp)\n",
    "        i = i // 2\n",
    "    return net\n",
    "\n",
    "\n",
    "hierq = Qinit(nb, state=bitonic_array.copy()) + bitonic_merging_network(nb)\n",
    "\n",
    "plot_circuit(hierq, plot_width=40)\n",
    "sorted_array = hierq()\n",
    "\n",
    "print(f\"Starting array: {bitonic_array}\\n Sorted array: {sorted_array}\")"
   ]
  },
  {
   "cell_type": "markdown",
   "id": "dab7ece1-cd7d-4482-bcbc-2ac0a4b786ae",
   "metadata": {},
   "source": [
    "### Sorting an unsorted sequence\n",
    "\n",
    "Sorting an unsorted sequence with a bitonic merge involves a two-step process. First, we need to transform the original sequence into a bitonic sequence. Note that a sequence of length 2 is already a bitonic sequence. To create a bitonic sequence of length 4, we sort the first two elements in ascending order using $\\oplus$ BM[2] and next two elements in descending order using $\\ominus$ BM[2]. This process can be applied recursively to create bitonic sequences of any size.\n",
    "\n",
    "The below image shows the complete bitonic sort of an unsorted sequence. The last merging network $\\oplus$ BM[16] sorts the input.\n",
    "\n",
    "<center>\n",
    "<img src='./bitonic_sort_network.png' width=700 />\n",
    "</center>\n",
    "\n",
    "### Implementation with HierarQcal\n",
    "\n",
    "Since we have already built the function `bitonic_merging_network`, we can make use of it. From the above image, note that, in the first iteration, $\\oplus$ BM[2] is used in a cycle. $\\ominus$ BM[2] is repeated in a similar manner. This means that we need to use the `Qcycle` primitive with `bitonic_merging_network` as the `mapping` argument (essentially 3 nested `Qcycle`). We create a function `BMCycle` for the same."
   ]
  },
  {
   "cell_type": "code",
   "execution_count": null,
   "id": "c8de4467-b74b-488c-9a22-37d2e4471852",
   "metadata": {},
   "outputs": [],
   "source": [
    "def BMCycle(step, off, nqubits, comp=i_comparator):\n",
    "    return Qcycle(\n",
    "        stride=1,\n",
    "        step=step,\n",
    "        offset=off,\n",
    "        mapping=Qinit(nqubits) + bitonic_merging_network(nqubits, comp),\n",
    "        boundary=\"open\",\n",
    "    )"
   ]
  },
  {
   "cell_type": "markdown",
   "id": "f68f6a86-adc9-45fc-a01a-eb5252cdc17a",
   "metadata": {},
   "source": [
    "We can now create a function `create_bitonic_sequence` which uses the `BMCycle` function and returns a network which, given a unsorted sequence returns a bitonic sequence upon execution."
   ]
  },
  {
   "cell_type": "code",
   "execution_count": null,
   "id": "31e2c392-9c13-45a0-8736-b850281497b1",
   "metadata": {},
   "outputs": [],
   "source": [
    "def create_bitonic_sequence(nqubits):\n",
    "    i = 2\n",
    "    seq = BMCycle(2 * i, 0, i)\n",
    "    seq = BMCycle(2 * i, i, i, d_comparator)\n",
    "    i *= 2\n",
    "    while i < nqubits:\n",
    "        seq += BMCycle(2 * i, 0, i)\n",
    "        seq += BMCycle(2 * i, i, i, d_comparator)\n",
    "        i *= 2\n",
    "    return seq"
   ]
  },
  {
   "cell_type": "code",
   "execution_count": null,
   "id": "c09437b4-5d3f-4e18-8059-1048ae1b6bb6",
   "metadata": {},
   "outputs": [],
   "source": [
    "array = [10, 20, 5, 9, 3, 8, 12, 14, 90, 0, 60, 40, 23, 35, 95, 18]\n",
    "nb = len(array)\n",
    "\n",
    "hierq = Qinit(nb, state=array.copy()) + create_bitonic_sequence(nb)\n",
    "\n",
    "plot_circuit(hierq, plot_width=40)\n",
    "\n",
    "bitonic_array = hierq()\n",
    "print(f\"Starting array: {array}\\n Sorted array: {bitonic_array}\")"
   ]
  },
  {
   "cell_type": "markdown",
   "id": "88fc6e62-3318-4ce2-a9b7-3db8888fdcb4",
   "metadata": {},
   "source": [
    "The output indeed is a bitonic sequence. For a complete bitonic sort, we need to add the final bitonic merging network i.e. $\\oplus$ BM[n] where $n$ is the size of the array (here 16)."
   ]
  },
  {
   "cell_type": "code",
   "execution_count": null,
   "id": "63ad3e04-8a8e-4d6f-a6f1-407db9f5cd1f",
   "metadata": {},
   "outputs": [],
   "source": [
    "def bitonic_sort(nqubits):\n",
    "    seq = create_bitonic_sequence(nqubits)\n",
    "    seq += BMCycle(2 * nqubits, 0, nqubits)\n",
    "    return seq"
   ]
  },
  {
   "cell_type": "code",
   "execution_count": null,
   "id": "42b7ab14-b247-44d3-ace2-c3b57b572814",
   "metadata": {},
   "outputs": [],
   "source": [
    "hierq = Qinit(len(array), state=array.copy()) + bitonic_sort(len(array))\n",
    "plot_circuit(hierq, plot_width=40)\n",
    "bitonic_array = hierq()\n",
    "print(f\"Starting array: {array}\\n Sorted array: {bitonic_array}\")"
   ]
  },
  {
   "cell_type": "markdown",
   "id": "556dca36-124f-4a1a-bcbb-32370ec01834",
   "metadata": {},
   "source": [
    "## Conclusion\n",
    "\n",
    "In this tutorial, we utilized HierarQcal to create and execute sorting networks including insertion, bubble and bitonic sort. With bitonic sort, we also learnt how to use nested `Qcycle` primitive from HierarQcal. We also covered sorting an unsorted sequence using bitonic sort by first creating a bitonic sequence and then using the $\\oplus$ BM[n]."
   ]
  },
  {
   "cell_type": "markdown",
   "id": "c57a0c42-9dbe-4bf7-b9df-4963ca475a2d",
   "metadata": {},
   "source": [
    "## References\n",
    "\n",
    "1. Chapter 9. Sorting, [Introduction to Parallel Computing](https://www.cs.purdue.edu/homes/ayg/book/Slides/), Ananth Grama, Purdue University.\n",
    "2. [Sorting network](https://en.wikipedia.org/wiki/Sorting_network), Wikipedia."
   ]
  }
 ],
 "metadata": {
  "kernelspec": {
   "display_name": "Python (hq-env)",
   "language": "python",
   "name": "hq-env"
  },
  "language_info": {
   "codemirror_mode": {
    "name": "ipython",
    "version": 3
   },
   "file_extension": ".py",
   "mimetype": "text/x-python",
   "name": "python",
   "nbconvert_exporter": "python",
   "pygments_lexer": "ipython3",
   "version": "3.10.0"
  }
 },
 "nbformat": 4,
 "nbformat_minor": 5
}
